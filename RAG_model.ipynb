{
  "nbformat": 4,
  "nbformat_minor": 0,
  "metadata": {
    "colab": {
      "provenance": [],
      "gpuType": "T4",
      "authorship_tag": "ABX9TyNKbRpXgqEBxf+9bNYfmmpv",
      "include_colab_link": true
    },
    "kernelspec": {
      "name": "python3",
      "display_name": "Python 3"
    },
    "language_info": {
      "name": "python"
    },
    "accelerator": "GPU"
  },
  "cells": [
    {
      "cell_type": "markdown",
      "metadata": {
        "id": "view-in-github",
        "colab_type": "text"
      },
      "source": [
        "<a href=\"https://colab.research.google.com/github/prernac-dotcom/generative_AI/blob/main/RAG_model.ipynb\" target=\"_parent\"><img src=\"https://colab.research.google.com/assets/colab-badge.svg\" alt=\"Open In Colab\"/></a>"
      ]
    },
    {
      "cell_type": "code",
      "execution_count": null,
      "metadata": {
        "id": "L51lX-RSlpDW"
      },
      "outputs": [],
      "source": [
        "import streamlit as st\n",
        "import os\n",
        "from langchain_community.document_loaders import WebBaseLoader\n",
        "from langchain.text_splitter import  RecursiveCharacterTextSplitter\n",
        "from langchain_google_genai import GoogleGenerativeAIEmbeddings\n",
        "from langchain_community.vectorstores import Chroma\n",
        "from langchain.chains import RetrievalQA\n",
        "from langchain_google_genai import ChatGoogleGenerativeAI"
      ]
    },
    {
      "cell_type": "code",
      "source": [
        "google_api_key = os.getenv(\"GOOGLE_API_KEY\")\n",
        "os.environ[\"GOOGLE_API_KEY\"] = google_api_key\n",
        "\n",
        "st.set_page_config(page_title=\"Web Document QA\", page_icon=\":book:\")\n",
        "st.title(\"Web Document Question Answering\")\n",
        "\n",
        "st.write(\"Enter a URL to load the document and ask questions about it.\")\n",
        "urls_input = st.text_area(\"URLS\", height= 100)\n",
        "\n",
        "if \"vector store\" not in st.session_state:\n",
        "   st.session_state.vector_store = None\n",
        "if 'qa chain' not in st.session_state:\n",
        "   st.session_state.qa_chain None\n",
        "\n",
        "if st.button(\"Load Document\"):\n",
        "   if not urls_input:\n",
        "      st.error(\"Please enter at least one URL.\")\n",
        "   elif not os.getenv(\"GOOGLE_API_KEY\") == \"Your Google API Key\":\n",
        "      st.error(\"Please set the GOOGLE_API_KEY environment variable.\")\n",
        "   else:\n",
        "      urls=[url.strip() for url in urls_input.split(\"\\n\") if url.strip\n",
        "      if not urls:\n",
        "         st.error(\"Please enter at least one valid URL..\")\n",
        "      else:\n",
        "         with st.spinner(\"Loading document...\"):\n",
        "            try:\n",
        "               loader= WebBaseLoader(urls)\n",
        "               documents= loader.load()\n",
        "\n",
        "               text_splitter = RecursiveCharacterTextSplitter(chunk_size=1)\n",
        "               split_docs =text_splitter.split_documents(documents)\n",
        "\n",
        "               embeddings GoogleGenerativeATEmbeddings(model=\"models/embedding-\n",
        "               vector store= Chroma.from_documents(split_docs, embeddings=\n",
        "\n",
        "               st.session_state.vector_store =vector_store\n",
        "               st.success(\"Document loaded successfully!\")\n",
        "\n",
        "               llm =ChatGoogleGenerativeAl (model=\"gemini-1.5-flash\")\n",
        "\n",
        "               st.session_state.qa_chain RetrievalQA.from_chain_type(\n",
        "                   llm-llm,\n",
        "                   chain type=\"stuff\",\n",
        "                   retriever-vector_store.as_retriever(),\n",
        "                   return_source_documents= True\n",
        "               )\n",
        "\n",
        "               st.success(\"QA chain created successfully!\")\n",
        "          except Exception as e:\n",
        "               st.error(f\"Error loading document: (e)\")\n",
        "               st.session_state.vector_store = None\n",
        "              st.session state.qa_chain= None\n",
        "\n",
        "st.session_state.qa_chain:\n",
        "st.write(\"---\")\n",
        "st.write(\"Ask a question about the document:\")\n",
        "question= st.text_input(\"Your Question\")\n",
        "if st.button(\"Get Answer\"):\n",
        "   if not question:\n",
        "      st.warning(\"Please enter a question.\")\n",
        "else:\n",
        "   with st.spinner(\"Getting answer...\"):\n",
        "      try:\n",
        "\n",
        "         result= st.session_state.qa_chain({\"query\": question))\n",
        "         st.subheader(\"Answer:\")\n",
        "         st.write(result['result'])\n",
        "            if 'source documents in result:\n",
        "               st.subheader(\"Source Documents:\")\n",
        "               for i,doc in enumerate(result['source_documents']):\n",
        "                  st.write(f\"**Document (i+1):***\")\n",
        "                  st.write(f\"Source: {doc.metadata.get('source', 'Unknowm')}\")\n",
        "                  st.write(f\"Content: {doc.page_content[:500]}...\")\n",
        "                  st.write(\"----\")\n",
        "      except Exception as e:\n",
        "         st.error(f\"Error getting answer: (e)\")\n",
        "else:\n",
        "   st.info(\"Load a document to start asking questions.\")"
      ],
      "metadata": {
        "colab": {
          "base_uri": "https://localhost:8080/",
          "height": 106
        },
        "id": "bS7KlxHYzlK2",
        "outputId": "4d206941-3410-4457-d6bd-f8286bdbac34"
      },
      "execution_count": null,
      "outputs": [
        {
          "output_type": "error",
          "ename": "SyntaxError",
          "evalue": "unterminated string literal (detected at line 33) (ipython-input-24-3001030371.py, line 33)",
          "traceback": [
            "\u001b[0;36m  File \u001b[0;32m\"/tmp/ipython-input-24-3001030371.py\"\u001b[0;36m, line \u001b[0;32m33\u001b[0m\n\u001b[0;31m    embeddings GoogleGenerativeATEmbeddings(model=\"models/enbedding-\u001b[0m\n\u001b[0m                                                  ^\u001b[0m\n\u001b[0;31mSyntaxError\u001b[0m\u001b[0;31m:\u001b[0m unterminated string literal (detected at line 33)\n"
          ]
        }
      ]
    }
  ]
}