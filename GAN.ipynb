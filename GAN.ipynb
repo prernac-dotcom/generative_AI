{
  "nbformat": 4,
  "nbformat_minor": 0,
  "metadata": {
    "colab": {
      "provenance": [],
      "gpuType": "T4",
      "authorship_tag": "ABX9TyO20yRQZhHL/h3o3QxZh9vc",
      "include_colab_link": true
    },
    "kernelspec": {
      "name": "python3",
      "display_name": "Python 3"
    },
    "language_info": {
      "name": "python"
    },
    "accelerator": "GPU"
  },
  "cells": [
    {
      "cell_type": "markdown",
      "metadata": {
        "id": "view-in-github",
        "colab_type": "text"
      },
      "source": [
        "<a href=\"https://colab.research.google.com/github/prernac-dotcom/generative_AI/blob/main/GAN.ipynb\" target=\"_parent\"><img src=\"https://colab.research.google.com/assets/colab-badge.svg\" alt=\"Open In Colab\"/></a>"
      ]
    },
    {
      "cell_type": "code",
      "execution_count": 7,
      "metadata": {
        "id": "11qULcZ9MbH9"
      },
      "outputs": [],
      "source": [
        "import numpy as np\n",
        "import tensorflow as tf\n",
        "from tensorflow.keras.layers import Dense,Flatten,Reshape,LeakyReLU\n",
        "from tensorflow.keras.models import Sequential\n",
        "from tensorflow.keras.optimizers import Adam\n",
        "import matplotlib.pyplot as plt\n",
        "import os"
      ]
    },
    {
      "cell_type": "code",
      "source": [
        "(X_train,_),(_,_)=tf.keras.datasets.mnist.load_data()\n",
        "X_train=(X_train.astype(np.float32)-127.5)/127.5\n",
        "X_train = np.expand_dims(X_train, axis=-1)\n"
      ],
      "metadata": {
        "id": "3Uy4YoecNMQV"
      },
      "execution_count": 12,
      "outputs": []
    },
    {
      "cell_type": "code",
      "source": [
        "buffer_size=60000\n",
        "btach_size=128\n",
        "dataset=tf.data.Dataset.from_tensor_slices(X_train).shuffle(buffer_size).batch(btach_size)"
      ],
      "metadata": {
        "id": "yIzOx-LzPJhZ"
      },
      "execution_count": 13,
      "outputs": []
    },
    {
      "cell_type": "code",
      "source": [
        "def build_generator():\n",
        "  model = Sequential([\n",
        "   Dense(256,input_shape=(100,)),\n",
        "   LeakyReLU(0.2),\n",
        "   Dense(512),\n",
        "   LeakyReLU(0.2),\n",
        "   Dense(1024),\n",
        "   LeakyReLU(0.2),\n",
        "   Dense(28*28,activation='tanh'),\n",
        "   Reshape((28,28,1))\n",
        "  ])\n",
        "  return model"
      ],
      "metadata": {
        "id": "4Pv19nPcQ7H7"
      },
      "execution_count": 15,
      "outputs": []
    },
    {
      "cell_type": "code",
      "source": [
        "def build_discriminator():\n",
        "  model = Sequential([\n",
        "   Flatten(),\n",
        "   Dense(512),\n",
        "   LeakyReLU(0.2),\n",
        "   Dense(256),\n",
        "   LeakyReLU(0.2),\n",
        "   Dense(1,activation='sigmoid')\n",
        "  ])\n",
        "  return model\n",
        "generator=build_generator()\n",
        "discriminator=build_discriminator()"
      ],
      "metadata": {
        "colab": {
          "base_uri": "https://localhost:8080/"
        },
        "id": "NO1CGJneR8o_",
        "outputId": "403ee3b7-8db2-4813-cd8b-4942537a2e91"
      },
      "execution_count": 17,
      "outputs": [
        {
          "output_type": "stream",
          "name": "stderr",
          "text": [
            "/usr/local/lib/python3.11/dist-packages/keras/src/layers/core/dense.py:87: UserWarning: Do not pass an `input_shape`/`input_dim` argument to a layer. When using Sequential models, prefer using an `Input(shape)` object as the first layer in the model instead.\n",
            "  super().__init__(activity_regularizer=activity_regularizer, **kwargs)\n"
          ]
        }
      ]
    },
    {
      "cell_type": "code",
      "source": [
        "cross_entropy=tf.keras.losses.BinaryCrossentropy()\n",
        "generator_optimizer=Adam(1e-4)\n",
        "discriminator_optimizer=Adam(1e-4)"
      ],
      "metadata": {
        "id": "clnXuxQCTjwR"
      },
      "execution_count": 18,
      "outputs": []
    },
    {
      "cell_type": "code",
      "source": [
        "@tf.function\n",
        "def train_step(images):\n",
        "  noise = tf.random.normal([btach_size,100])\n",
        "  with tf.GradientTape()  as disc_tape:\n",
        "   generated_images=generator(noise,training=True)\n",
        "   real_output=discriminator(images,training=True)\n",
        "   fake_output=discriminator(generated_images,training=True)\n",
        "   real_loss=cross_entropy(tf.ones_like(real_output),real_output)\n",
        "   fake_loss=cross_entropy(tf.zeros_like(fake_output),fake_output)\n",
        "   disc_loss=real_loss+fake_loss\n",
        "  disc_grad = disc_tape.gradient(disc_loss,discriminator.trainable_variables)\n",
        "  discriminator_optimizer.apply_gradients(zip(disc_grad,discriminator.trainable_variables))\n",
        "  with tf.GradientTape() as gen_tape:\n",
        "     generated_images=generator(noise,training=True)\n",
        "     fake_output=discriminator(generated_images,training=True)\n",
        "     gen_loss=cross_entropy(tf.ones_like(fake_output),fake_output)\n",
        "  gen_grad=gen_tape.gradient(gen_loss,generator.trainable_variables)\n",
        "  generator_optimizer.apply_gradients(zip(gen_grad,generator.trainable_variables))\n",
        ""
      ],
      "metadata": {
        "id": "ZumidmXEUC05"
      },
      "execution_count": 25,
      "outputs": []
    },
    {
      "cell_type": "code",
      "source": [],
      "metadata": {
        "id": "DQmsUhakVa-p"
      },
      "execution_count": null,
      "outputs": []
    }
  ]
}